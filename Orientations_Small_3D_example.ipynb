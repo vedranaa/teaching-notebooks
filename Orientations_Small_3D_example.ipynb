{
  "cells": [
    {
      "attachments": {},
      "cell_type": "markdown",
      "metadata": {
        "id": "3VP84RIT9dtO"
      },
      "source": [
        "# 3D structure tensor - a small example\n",
        "\n",
        "*Author: Vedrana Andersen Dahl (vand@dtu.dk), uses code by Niels Jeppesen*\n",
        "\n",
        "[![Open In Colab](https://colab.research.google.com/assets/colab-badge.svg)](https://colab.research.google.com/github/vedranaa/teaching-notebooks/blob/main/Orientations_Small_3D_example.ipynb)\n",
        "\n",
        "A small example demonstrating the use of 3D structure tensor for visualizing and clustering dominant orientation. \n",
        "We use the structure tensor implementation provided by [structure-tensor package](https://github.com/Skielex/structure-tensor). We also use [scmap module](https://github.com/vedranaa/sphere-colormap) for sperical colormap. And lastly we use small module [volvisplotyly](https://github.com/vedranaa/goodies/blob/main/volvizplotly.py) for easier 3D visualization in ploty."
      ]
    },
    {
      "cell_type": "code",
      "execution_count": null,
      "metadata": {},
      "outputs": [],
      "source": [
        "# Install custom-made packages and get the data.\n",
        "import os\n",
        "!pip install -q structure_tensor\n",
        "!pip install -q scmap\n",
        "!pip install -q icosphere\n",
        "if not os.path.isfile('multicube.tif.py'):\n",
        "    !wget 'https://data.qim.dk/demo_data/multicube.tif' -q\n",
        "if not os.path.isfile('volvizplotly.py'):\n",
        "    !wget 'https://raw.githubusercontent.com/vedranaa/goodies/main/volvizplotly.py' -q\n",
        "if not os.path.isfile('volvizplotly_dev.py'):\n",
        "    !wget 'https://raw.githubusercontent.com/vedranaa/teaching-notebooks/main/volvizplotly_dev.py' -q\n",
        "if not os.path.isfile('orientation_helper.py'):\n",
        "    !wget 'https://raw.githubusercontent.com/vedranaa/teaching-notebooks/main/orientation_helper.py' -q   "
      ]
    },
    {
      "cell_type": "code",
      "execution_count": null,
      "metadata": {
        "id": "taYndnkd9dtP"
      },
      "outputs": [],
      "source": [
        "# Import commonly used packages\n",
        "import numpy as np\n",
        "import matplotlib.pyplot as plt\n",
        "import tifffile\n",
        "\n",
        "# Import custom-made packages\n",
        "import structure_tensor as st\n",
        "import scmap\n",
        "from volvizplotly_dev import volume_slicer\n",
        "import orientation_helper as oh\n",
        "\n",
        "%matplotlib inline"
      ]
    },
    {
      "cell_type": "markdown",
      "metadata": {
        "id": "NrfsK9Nu9dtQ"
      },
      "source": [
        "## Reading the data\n",
        "\n",
        "The data is a small cube from a volumetric image og fibre composite. The cube contains five bundles in layers: UD fibre (0 deg), crossing fibre (45 deg), 90 deg fibre, -45 deg bundle, UD bundle (0 deg)."
      ]
    },
    {
      "cell_type": "code",
      "execution_count": null,
      "metadata": {
        "colab": {
          "base_uri": "https://localhost:8080/",
          "height": 374
        },
        "id": "JdDzAmN_9dtQ",
        "outputId": "d691f8f0-5bfb-4342-9512-cd8f315d205f"
      },
      "outputs": [],
      "source": [
        "vol = tifffile.imread('multicube.tif')\n",
        "# Transpose (rotate), just for better illustration\n",
        "vol = np.transpose(vol, (1, 0, 2))\n",
        "\n",
        "print(f'Volume shape is: {vol.shape}')\n",
        "print(f'Volume data type is: {vol.dtype}')\n",
        "print(f'Intensity range is: {vol.min():03}-{vol.max()}')\n",
        "\n",
        "# Visualize volume slices and histogram\n",
        "fig, ax = plt.subplots(1, 4, figsize=(15,5))\n",
        "ax[0].imshow(vol[vol.shape[0]//2], cmap=plt.cm.gray)\n",
        "ax[1].imshow(vol[:, vol.shape[1]//2, :], cmap=plt.cm.gray)\n",
        "ax[2].imshow(vol[:, :, vol.shape[2]//2], cmap=plt.cm.gray)\n",
        "ax[3].hist(vol.ravel(), np.arange(257)-0.5)\n",
        "plt.show()"
      ]
    },
    {
      "cell_type": "markdown",
      "metadata": {
        "id": "KCK5gsFJLe_Z"
      },
      "source": [
        "We visualize the orthogonal cross sections and the surface of 3D volume in plotly."
      ]
    },
    {
      "cell_type": "code",
      "execution_count": null,
      "metadata": {
        "colab": {
          "base_uri": "https://localhost:8080/",
          "height": 617
        },
        "id": "OZqhvuYmOS_u",
        "outputId": "839ffa7e-7280-4be7-f5fc-3367b5ee1e8e"
      },
      "outputs": [],
      "source": [
        "volume_slicer(vol, ['mid', 'mid', 'mid'])"
      ]
    },
    {
      "cell_type": "code",
      "execution_count": null,
      "metadata": {
        "colab": {
          "base_uri": "https://localhost:8080/",
          "height": 617
        },
        "id": "P2i3EBA2Ldjh",
        "outputId": "bd452d4f-c438-4b58-e3d8-175dafc4ae08"
      },
      "outputs": [],
      "source": [
        "volume_slicer(vol, ['ends', 'ends', 'ends'])"
      ]
    },
    {
      "cell_type": "markdown",
      "metadata": {
        "id": "BT7T1z0-9dtR"
      },
      "source": [
        "## Computing the structure tensor and the dominant orientation\n",
        "Computation of structure tensor requires only two parameters: the noise scale sigma and the integration scale rho. Parameter sigma controls smothing while computing gradientes, and structures smaller than sigma will be removed by smoothing. Parameter rho gives the size over the neighborhood in which the orientation is to be analysed for every volume voxel. Larger rho will result in a smoother orientation field.\n",
        "\n",
        "Structure tensor is a 3x3 matrix, but as it is symmetrical we only carry values of 6 elements: $s_{xx}$, $s_{yy}$, $s_{zz}$, $s_{xy}$, $s_{xz}$ and $s_{yz}$.\n",
        "\n",
        "Eigenvalues (val) carry the information about the degree of anisotropy - this is not used or visualized here. Eigenvectors (vec) carry the orientation information, as $x$, $y$, and $z$ component of the orientation vector."
      ]
    },
    {
      "cell_type": "code",
      "execution_count": null,
      "metadata": {
        "id": "D4UgH4kROEvn"
      },
      "outputs": [],
      "source": [
        "# Change data type to double\n",
        "vol = vol.astype(float)/255"
      ]
    },
    {
      "cell_type": "code",
      "execution_count": null,
      "metadata": {
        "colab": {
          "base_uri": "https://localhost:8080/"
        },
        "id": "_6vPk_Xb9dtR",
        "outputId": "a8d95ab5-31ba-4aeb-b750-a06c2c13c422"
      },
      "outputs": [],
      "source": [
        "sigma = 0.5 # noise scale\n",
        "rho = 2 # integration scale\n",
        "S = st.structure_tensor_3d(vol, sigma, rho)\n",
        "val, vec = st.eig_special_3d(S)\n",
        "\n",
        "print(f'The volume has a shape {vol.shape}, i.e. {vol.size} voxels.')\n",
        "print(f'Structure tensor information is carried in a {S.shape} array.')\n",
        "print(f'Orientation information is carried in a {vec.shape} array.')"
      ]
    },
    {
      "cell_type": "markdown",
      "metadata": {
        "id": "6xODgrxg9dtS"
      },
      "source": [
        "## Visualizing the dominant orientation\n",
        "Here we investigate only dominant orientation, ignoring shape measures. \n",
        "\n",
        "Visualizing subset of dominant orientetions as points on a unit sphere. I choose fan coloring (`Duo` in `scmap`) which uses hsv colors for orientatins in a certain plane, here a $xy$ plane, and gray color for the orientations orthogonal to this plane. This coloring is convenient since all fibre bundles lay in $xy$ plane.\n"
      ]
    },
    {
      "cell_type": "code",
      "execution_count": null,
      "metadata": {},
      "outputs": [],
      "source": [
        "# theta = 90\n",
        "# st = np.sin(theta*np.pi/180)\n",
        "# ct = np.cos(theta*np.pi/180)\n",
        "# rotation = np.array([[ct, -st, 0], [st, ct, 0], [0, 0, 1]])\n",
        "# reflection = np.array([[-1, 0, 0], [0, 1, 0], [0, 0, 1]])\n",
        "# coloring = scmap.Duo(rotation=reflection@rotation)\n",
        "coloring=scmap.Duo()\n",
        "oh.show_coloring_sphere(coloring)"
      ]
    },
    {
      "cell_type": "markdown",
      "metadata": {
        "id": "7ooJP-4G-fYv"
      },
      "source": [
        "Visualizing subset of dominant orientetions as points on a unit sphere."
      ]
    },
    {
      "cell_type": "code",
      "execution_count": null,
      "metadata": {},
      "outputs": [],
      "source": [
        "random_subset = 1000\n",
        "oh.show_scatter_points(vec, coloring, random_subset)"
      ]
    },
    {
      "cell_type": "code",
      "execution_count": null,
      "metadata": {
        "colab": {
          "base_uri": "https://localhost:8080/",
          "height": 246
        },
        "id": "V-lRx7Lb9dtS",
        "outputId": "0d193b7f-d0bb-4ced-f9b0-32f1696f9bb8",
        "scrolled": true
      },
      "outputs": [],
      "source": [
        "fig, ax = plt.subplots(1, 4, figsize=(15, 10))\n",
        "for z, a in zip([30, 60, 85, 123], ax):\n",
        "  oh.show_vol_flow(vol, vec, z=z, s=10, double_arrow = True, ax=a) \n",
        "plt.show()"
      ]
    },
    {
      "cell_type": "markdown",
      "metadata": {
        "id": "_CsQyi5r9dtT"
      },
      "source": [
        "When visualizing the orientation as color, I choose fan coloring (`Duo` in `scmap`) which uses hsv colors for orientatins in a certain plane, here a $xy$ plane, and gray color for the orientations orthogonal to this plane. This coloring is convenient since all fibre bundles lay in $xy$ plane."
      ]
    },
    {
      "cell_type": "code",
      "execution_count": null,
      "metadata": {
        "colab": {
          "base_uri": "https://localhost:8080/",
          "height": 246
        },
        "id": "fdGMd7IM9dtT",
        "outputId": "4cce7a9f-4d65-4b07-c8f2-81fd2961996e"
      },
      "outputs": [],
      "source": [
        "fig, ax = plt.subplots(1, 4, figsize=(15, 10))\n",
        "for z, a in zip([30, 60, 85, 123], ax):\n",
        "  oh.show_vol_orientation(vol, vec, z=z, coloring=coloring, ax=a)\n",
        "plt.show()"
      ]
    },
    {
      "cell_type": "code",
      "execution_count": null,
      "metadata": {},
      "outputs": [],
      "source": [
        "# The support of volume slicer for rgb images is experimental\n",
        "volrgb = coloring(vec.reshape(3, -1).T).reshape((vec.shape[1:] + (3,)))\n",
        "volume_slicer(volrgb, ['mid', 'mid', 'mid'])"
      ]
    },
    {
      "cell_type": "code",
      "execution_count": null,
      "metadata": {},
      "outputs": [],
      "source": []
    }
  ],
  "metadata": {
    "colab": {
      "provenance": []
    },
    "kernelspec": {
      "display_name": "base",
      "language": "python",
      "name": "python3"
    },
    "language_info": {
      "codemirror_mode": {
        "name": "ipython",
        "version": 3
      },
      "file_extension": ".py",
      "mimetype": "text/x-python",
      "name": "python",
      "nbconvert_exporter": "python",
      "pygments_lexer": "ipython3",
      "version": "3.9.13"
    },
    "vscode": {
      "interpreter": {
        "hash": "b35caa3764096924ce573458b7678f48285fe4447fc77b92472b406a014fb35c"
      }
    }
  },
  "nbformat": 4,
  "nbformat_minor": 0
}
