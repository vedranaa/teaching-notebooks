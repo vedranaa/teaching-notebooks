{
 "cells": [
  {
   "attachments": {},
   "cell_type": "markdown",
   "metadata": {},
   "source": [
    "# Quantification: pore thickness\n",
    "\n",
    "Processing of a single block, and extracting pore statistics. This notebook is a fast-forward version of local thickness analysis with focus on quantification.\n"
   ]
  },
  {
   "cell_type": "code",
   "execution_count": null,
   "metadata": {},
   "outputs": [],
   "source": [
    "import matplotlib.pyplot as plt\n",
    "import numpy as np\n",
    "import tifffile\n",
    "import skimage\n",
    "import localthickness as lt\n",
    "\n",
    "def lognormal_statistics(dist):\n",
    "    log = np.log(dist)\n",
    "    stats = {'mean': dist.mean(), \n",
    "             'median': np.exp(log.mean()), \n",
    "             'mode': np.exp(log.mean() - log.std()**2)\n",
    "             }\n",
    "    return stats\n",
    "\n",
    "def central_slice(vol, ax=0):\n",
    "    # returns central slice along axis ax\n",
    "    s = vol.shape[ax]//2\n",
    "    slicing = (slice(None), ) * ax + (slice(s, s+1),)\n",
    "    return vol[slicing].squeeze(axis=ax)\n"
   ]
  },
  {
   "cell_type": "code",
   "execution_count": null,
   "metadata": {},
   "outputs": [],
   "source": [
    "# If needed, retrieve volume from QIM data repository. \n",
    "# This may take a couple of minutes, but is only done once.\n",
    "import os\n",
    "if not os.path.isdir('cement_data'):\n",
    "    !wget -q https://qim.compute.dtu.dk/data-repository/cement_data.zip\n",
    "\n",
    "    # Unzip the file to the current directory.\n",
    "    import shutil\n",
    "    shutil.unpack_archive('cement_data.zip', 'cement_data')"
   ]
  },
  {
   "attachments": {},
   "cell_type": "markdown",
   "metadata": {},
   "source": [
    "## Segmentation\n",
    "\n",
    "A simple binarization pipeline consisting of Gaussian smoothing, thresholding and morphological filtering. "
   ]
  },
  {
   "cell_type": "code",
   "execution_count": null,
   "metadata": {},
   "outputs": [],
   "source": [
    "# Binarization parameters\n",
    "smoothing_sigma = 0.5\n",
    "threshold = 80\n",
    "morphology_radius = 2\n",
    "\n",
    "# Load, crop and binarize the volume.\n",
    "vol = tifffile.imread('cement_data/cement2.tif')\n",
    "vol = vol[300:500, 200:400, 300:500]\n",
    "\n",
    "# Binarization: gaussian smoothing, thresholding, morphology\n",
    "bin_vol = skimage.filters.gaussian(vol.astype(float)/255, sigma=smoothing_sigma)\n",
    "bin_vol = bin_vol > threshold/255\n",
    "bin_vol = skimage.morphology.binary_closing(bin_vol, skimage.morphology.ball(morphology_radius))\n",
    "\n",
    "# Look at binarization of three orthogonal cross-sections and histogram.\n",
    "fig, ax = plt.subplots(1, 4, figsize=(10, 2))\n",
    "for i in range(3):\n",
    "    ax[i].imshow(central_slice(vol, i), cmap=plt.cm.gray, vmin=0, vmax=255)\n",
    "    ax[i].imshow(central_slice(bin_vol, i), cmap=plt.cm.cool, alpha=0.1, vmin=0, vmax=1)\n",
    "    ax[i].set_title(f'Slicing dimension {i}')\n",
    "\n",
    "edges = np.arange(257)-0.5\n",
    "centers= np.arange(256)\n",
    "ax[3].bar(centers, np.histogram(vol.ravel(), edges)[0], width=1, color='k')\n",
    "ax[3].plot(centers, np.histogram(vol[bin_vol], edges)[0], color=plt.cm.cool(1.))\n",
    "ax[3].plot(centers, np.histogram(vol[~bin_vol], edges)[0], color=plt.cm.cool(0.))\n",
    "ax[3].set_title('Intensity histogram')\n",
    "plt.show()\n",
    "\n",
    "print(f'Material fraction {100*bin_vol.sum()/bin_vol.size:.0f}%.')\n"
   ]
  },
  {
   "attachments": {},
   "cell_type": "markdown",
   "metadata": {},
   "source": [
    "## Local thickness (LT)\n",
    "\n",
    "Local thickness is applied directly to binarized volume. No parameters required."
   ]
  },
  {
   "cell_type": "code",
   "execution_count": null,
   "metadata": {},
   "outputs": [],
   "source": [
    "th = lt.local_thickness(~bin_vol)\n",
    "thmax = th.max()\n",
    "\n",
    "th_hist, th_binedges = np.histogram(th[~bin_vol], 30, range=(0, thmax))\n",
    "th_stats = lognormal_statistics(th[~bin_vol])\n",
    "\n",
    "cmap = lt.black_plasma()\n",
    "fig, ax = plt.subplots(1, 4, figsize=(10, 2))\n",
    "for i in range(3):\n",
    "    ax[i].imshow(central_slice(th, i), cmap=cmap, vmin=0, vmax=thmax, interpolation='nearest')\n",
    "    ax[i].set_title(f'Slicing dimension {i}')\n",
    "ax[3].bar(th_binedges[:-1], th_hist, width=th_binedges[1], align='edge', color='k')\n",
    "ax[3].set_title('Thickness histogram')\n",
    "for stats in th_stats.keys():\n",
    "    ax[3].plot([th_stats[stats]]*2, [0, th_hist.max()], ':', label=stats)\n",
    "ax[3].legend()\n",
    "plt.show()\n",
    "\n",
    "print(f\"Pore thickness mean, median and mode {th_stats['mean']:.02g}, {th_stats['median']:.02g}, {th_stats['mode']:.02g}.\")"
   ]
  }
 ],
 "metadata": {
  "kernelspec": {
   "display_name": "volumetric",
   "language": "python",
   "name": "python3"
  },
  "language_info": {
   "codemirror_mode": {
    "name": "ipython",
    "version": 3
   },
   "file_extension": ".py",
   "mimetype": "text/x-python",
   "name": "python",
   "nbconvert_exporter": "python",
   "pygments_lexer": "ipython3",
   "version": "3.9.13"
  },
  "orig_nbformat": 4,
  "vscode": {
   "interpreter": {
    "hash": "1d14f0a685194b977c743e78085eae87175faebb2f88bd2c158a27add4cbea1f"
   }
  }
 },
 "nbformat": 4,
 "nbformat_minor": 2
}
